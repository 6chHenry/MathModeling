{
 "cells": [
  {
   "cell_type": "code",
   "execution_count": 3,
   "id": "initial_id",
   "metadata": {
    "ExecuteTime": {
     "end_time": "2025-08-09T02:57:27.305541Z",
     "start_time": "2025-08-09T02:57:27.295033Z"
    },
    "collapsed": true
   },
   "outputs": [],
   "source": [
    "import numpy"
   ]
  },
  {
   "cell_type": "code",
   "execution_count": 4,
   "id": "8942ec62a9d20f42",
   "metadata": {
    "ExecuteTime": {
     "end_time": "2025-08-09T02:57:28.407359Z",
     "start_time": "2025-08-09T02:57:28.387972Z"
    }
   },
   "outputs": [
    {
     "data": {
      "text/plain": [
       "array([1, 2])"
      ]
     },
     "execution_count": 4,
     "metadata": {},
     "output_type": "execute_result"
    }
   ],
   "source": [
    "numpy.array([1,2])"
   ]
  },
  {
   "cell_type": "code",
   "execution_count": 2,
   "id": "cd3edd45",
   "metadata": {},
   "outputs": [],
   "source": [
    "import seaborn as sns\n",
    "import matplotlib.pyplot as plt\n",
    "import pandas as pd"
   ]
  },
  {
   "cell_type": "code",
   "execution_count": 5,
   "id": "e523a3cf",
   "metadata": {},
   "outputs": [],
   "source": [
    "df = pd.read_csv('input_data/df_movies_test.csv')"
   ]
  },
  {
   "cell_type": "code",
   "execution_count": 6,
   "id": "3eeef63deaa91651",
   "metadata": {},
   "outputs": [
    {
     "name": "stdout",
     "output_type": "stream",
     "text": [
      "<class 'pandas.core.frame.DataFrame'>\n",
      "RangeIndex: 19 entries, 0 to 18\n",
      "Data columns (total 9 columns):\n",
      " #   Column                Non-Null Count  Dtype  \n",
      "---  ------                --------------  -----  \n",
      " 0   id                    19 non-null     int64  \n",
      " 1   genres                19 non-null     object \n",
      " 2   cast                  19 non-null     object \n",
      " 3   director              19 non-null     object \n",
      " 4   writers               18 non-null     object \n",
      " 5   production_companies  18 non-null     object \n",
      " 6   producers             0 non-null      float64\n",
      " 7   original_language     18 non-null     object \n",
      " 8   runtime               18 non-null     float64\n",
      "dtypes: float64(2), int64(1), object(6)\n",
      "memory usage: 1.5+ KB\n"
     ]
    }
   ],
   "source": [
    "# 将时长分为3个区间\n",
    "df.info()"
   ]
  },
  {
   "cell_type": "code",
   "execution_count": null,
   "id": "7a430467",
   "metadata": {},
   "outputs": [],
   "source": [
    "|"
   ]
  }
 ],
 "metadata": {
  "kernelspec": {
   "display_name": "work",
   "language": "python",
   "name": "python3"
  },
  "language_info": {
   "codemirror_mode": {
    "name": "ipython",
    "version": 3
   },
   "file_extension": ".py",
   "mimetype": "text/x-python",
   "name": "python",
   "nbconvert_exporter": "python",
   "pygments_lexer": "ipython3",
   "version": "3.12.11"
  }
 },
 "nbformat": 4,
 "nbformat_minor": 5
}
